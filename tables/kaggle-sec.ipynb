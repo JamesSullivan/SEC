{
 "cells": [
  {
   "cell_type": "code",
   "execution_count": null,
   "metadata": {
    "_cell_guid": "b1076dfc-b9ad-4769-8c92-a6c4dae69d19",
    "_uuid": "8f2839f25d086af736a60e9eeb907d3b93b6e0e5",
    "execution": {
     "iopub.execute_input": "2025-04-12T22:45:24.620077Z",
     "iopub.status.busy": "2025-04-12T22:45:24.619817Z",
     "iopub.status.idle": "2025-04-12T22:45:26.228634Z",
     "shell.execute_reply": "2025-04-12T22:45:26.227813Z",
     "shell.execute_reply.started": "2025-04-12T22:45:24.620055Z"
    },
    "trusted": true
   },
   "outputs": [
    {
     "name": "stdout",
     "output_type": "stream",
     "text": [
      "../data/tables_1009001/\n",
      "../data/tables_1009001/dim.csv\n",
      "../data/tables_1009001/tag.csv\n",
      "../data/tables_1009001/pre.csv\n",
      "../data/tables_1009001/num.csv\n",
      "../data/tables_1009001/ren.csv\n",
      "../data/tables_1009001/sub.csv\n",
      "../data/tables_1009001/cal.csv\n",
      "../data/tables_1009001/txt.csv\n"
     ]
    }
   ],
   "source": [
    "# This Python 3 environment comes with many helpful analytics libraries installed\n",
    "# It is defined by the kaggle/python Docker image: https://github.com/kaggle/docker-python\n",
    "# For example, here's several helpful packages to load\n",
    "\n",
    "import numpy as np # linear algebra\n",
    "import os\n",
    "import pandas as pd # data processing, CSV file I/O (e.g. pd.read_csv)\n",
    "\n",
    "# Define the directory containing your CSV files\n",
    "data_dir = '/kaggle/input/sec-cameco/' if 'KAGGLE_KERNEL_RUN_TYPE' in os.environ else '../data/tables_1009001/'\n",
    "\n",
    "for dirname, _, filenames in os.walk(data_dir):\n",
    "    for filename in filenames:\n",
    "        print(os.path.join(dirname, filename))\n",
    "\n",
    "# You can write up to 20GB to the current directory (/kaggle/working/) that gets preserved as output when you create a version using \"Save & Run All\" \n",
    "# You can also write temporary files to /kaggle/temp/, but they won't be saved outside of the current session"
   ]
  },
  {
   "cell_type": "code",
   "execution_count": 21,
   "metadata": {
    "execution": {
     "iopub.execute_input": "2025-04-12T22:45:29.776181Z",
     "iopub.status.busy": "2025-04-12T22:45:29.775937Z",
     "iopub.status.idle": "2025-04-12T22:45:30.428515Z",
     "shell.execute_reply": "2025-04-12T22:45:30.427855Z",
     "shell.execute_reply.started": "2025-04-12T22:45:29.776159Z"
    },
    "trusted": true
   },
   "outputs": [
    {
     "name": "stdout",
     "output_type": "stream",
     "text": [
      "Error loading 'dim.csv': Binder Error: Column \"raw_date_int\" in EXCLUDE list not found in FROM clause\n",
      "Error loading 'tag.csv': Binder Error: Column \"raw_date_int\" in EXCLUDE list not found in FROM clause\n",
      "Error loading 'pre.csv': Binder Error: Column \"raw_date_int\" in EXCLUDE list not found in FROM clause\n",
      "Error loading 'num.csv': Binder Error: Column \"raw_date_int\" in EXCLUDE list not found in FROM clause\n",
      "Error loading 'ren.csv': Binder Error: Column \"raw_date_int\" in EXCLUDE list not found in FROM clause\n",
      "Error loading 'sub.csv': Binder Error: Column \"raw_date_int\" in EXCLUDE list not found in FROM clause\n",
      "Error loading 'cal.csv': Binder Error: Column \"raw_date_int\" in EXCLUDE list not found in FROM clause\n",
      "Error loading 'txt.csv': Binder Error: Column \"raw_date_int\" in EXCLUDE list not found in FROM clause\n"
     ]
    }
   ],
   "source": [
    "import duckdb\n",
    "import os\n",
    "\n",
    "sec_pk = {'sub': 'adsh', 'tag': 'tag, version', 'ren': 'adsh, report', 'pre': 'adsh, report, line', 'cal': 'adsh, grp, arc', 'dim': 'dimhash'}\n",
    "# Create an in-memory DuckDB connection\n",
    "con = duckdb.connect(database=':memory:', read_only=False)\n",
    "\n",
    "# List all files in the specified directory\n",
    "all_files = os.listdir(data_dir)\n",
    "\n",
    "# Filter for CSV files (you might need to adjust the extension if your files are different)\n",
    "csv_files = [f for f in all_files if f.endswith('.csv')]\n",
    "\n",
    "# Iterate through the CSV files and load them into DuckDB tables\n",
    "for file_name in csv_files:\n",
    "    file_path = os.path.join(data_dir, file_name)\n",
    "    table_name = os.path.splitext(file_name)[0]  # Use the filename (without extension) as the table name\n",
    "\n",
    "    try:\n",
    "        # Option 1: Use pandas to read the CSV file into a DataFrame\n",
    "        #df = pd.read_csv(file_path)\n",
    "\n",
    "        # Load the DataFrame into a DuckDB table\n",
    "        #con.register(table_name, df)  # Register the DataFrame as a view\n",
    "\n",
    "        # Option 2: Using COPY FROM (Faster for large files)\n",
    "        con.execute(f\"\"\"CREATE TABLE IF NOT EXISTS {table_name} AS \n",
    "                    SELECT\n",
    "                        strptime(raw_date_int, '%Y%m%d')::DATE AS event_date,\n",
    "                        -- Other columns\n",
    "                        * EXCLUDE (raw_date_int)\n",
    "                    FROM read_csv('{file_path}', AUTO_DETECT=TRUE);\"\"\")\n",
    "        if table_name in sec_pk:\n",
    "            # Add primary key constraint\n",
    "            con.execute(f\"ALTER TABLE {table_name} ADD PRIMARY KEY ({sec_pk[table_name]});\")\n",
    "\n",
    "        print(f\"Loaded '{file_name}' into DuckDB view '{table_name}'\")\n",
    "\n",
    "    except Exception as e:\n",
    "        print(f\"Error loading '{file_name}': {e}\")\n",
    "\n",
    "# Now you can query the data in DuckDB using SQL\n",
    "# For example, to select the first few rows of one of your tables:\n",
    "# table_to_query = csv_files[0].split('.')[0] # Get the name of the first table\n",
    "# result = con.execute(f\"SELECT * FROM {table_to_query} LIMIT 5;\").fetchdf()\n",
    "# print(result)"
   ]
  },
  {
   "cell_type": "code",
   "execution_count": 5,
   "metadata": {},
   "outputs": [
    {
     "name": "stdout",
     "output_type": "stream",
     "text": [
      "Schema for table: employees\n",
      "-------------------------\n",
      "Column ID  Name                 Type            NotNull  PrimaryKey   Default             \n",
      "-------------------------------------------------------------------------------------\n",
      "0          id                   INTEGER         1        0            True                \n",
      "1          name                 VARCHAR         0        0            False               \n",
      "2          age                  INTEGER         1        0            False               \n",
      "3          salary               DECIMAL(10,2)   0        0            False               \n",
      "4          hire_date            DATE            0        1            False               \n",
      "-------------------------------------------------------------------------------------\n",
      "\n",
      "Trying to print schema of a non-existent table:\n",
      "Error: Catalog Error: Table with name departments does not exist!\n",
      "Did you mean \"pg_attrdef\"?\n",
      "Could not retrieve schema for table 'departments'.\n"
     ]
    }
   ],
   "source": [
    "\n",
    "def print_duckdb_schema(conn: duckdb.DuckDBPyConnection, table_name: str):\n",
    "  \"\"\"Prints the schema of a specified table in a DuckDB database.\n",
    "\n",
    "  Args:\n",
    "    conn: An active DuckDB connection object.\n",
    "    table_name: The name of the table whose schema to print.\n",
    "  \"\"\"\n",
    "  try:\n",
    "    schema_info = conn.execute(f\"PRAGMA table_info('{table_name}')\").fetchall()\n",
    "    if not schema_info:\n",
    "      print(f\"Table '{table_name}' not found.\")\n",
    "      return\n",
    "\n",
    "    print(f\"Schema for table: {table_name}\")\n",
    "    print(\"-\" * (16 + len(table_name)))\n",
    "    print(f\"{'Column ID':<10} {'Name':<20} {'Type':<15} {'NotNull':<8} {'PrimaryKey':<12} {'Default':<20}\")\n",
    "    print(\"-\" * 85)\n",
    "    for column in schema_info:\n",
    "      cid, name, dtype, notnull, pk, default = column\n",
    "      print(f\"{cid:<10} {name:<20} {dtype:<15} {bool(notnull):<8} {bool(pk):<12} {str(default):<20}\")\n",
    "    print(\"-\" * 85)\n",
    "\n",
    "  except duckdb.CatalogException as e:\n",
    "    print(f\"Error: {e}\")\n",
    "    print(f\"Could not retrieve schema for table '{table_name}'.\")\n",
    "\n",
    "if __name__ == \"__main__\":\n",
    "  # Example usage:\n",
    "\n",
    "  # 1. Connect to an in-memory DuckDB database (or a file)\n",
    "  conn = duckdb.connect(':memory:')\n",
    "  # conn = duckdb.connect('my_database.db')\n",
    "\n",
    "  # 2. Create a sample table\n",
    "  conn.execute(\"\"\"\n",
    "  CREATE TABLE employees (\n",
    "    id INTEGER PRIMARY KEY,\n",
    "    name VARCHAR,\n",
    "    age INTEGER NOT NULL,\n",
    "    salary DECIMAL(10, 2),\n",
    "    hire_date DATE DEFAULT CURRENT_DATE\n",
    "  );\n",
    "  \"\"\")\n",
    "\n",
    "  # 3. Print the schema of the 'employees' table\n",
    "  print_duckdb_schema(conn, 'employees')\n",
    "\n",
    "  # 4. Try printing the schema of a non-existent table\n",
    "  print(\"\\nTrying to print schema of a non-existent table:\")\n",
    "  print_duckdb_schema(conn, 'departments')\n",
    "\n",
    "  # 5. Close the connection (important for file-based databases)\n",
    "  conn.close()"
   ]
  },
  {
   "cell_type": "code",
   "execution_count": 22,
   "metadata": {
    "execution": {
     "iopub.execute_input": "2025-04-12T22:46:11.063245Z",
     "iopub.status.busy": "2025-04-12T22:46:11.063015Z",
     "iopub.status.idle": "2025-04-12T22:46:11.093073Z",
     "shell.execute_reply": "2025-04-12T22:46:11.092411Z",
     "shell.execute_reply.started": "2025-04-12T22:46:11.063227Z"
    },
    "trusted": true
   },
   "outputs": [
    {
     "ename": "CatalogException",
     "evalue": "Catalog Error: Table with name sub does not exist!\nDid you mean \"duckdb_logs\"?\n\nLINE 1: SELECT * FROM sub;\n                      ^",
     "output_type": "error",
     "traceback": [
      "\u001b[0;31m---------------------------------------------------------------------------\u001b[0m",
      "\u001b[0;31mCatalogException\u001b[0m                          Traceback (most recent call last)",
      "Cell \u001b[0;32mIn[22], line 1\u001b[0m\n\u001b[0;32m----> 1\u001b[0m result \u001b[38;5;241m=\u001b[39m \u001b[43mcon\u001b[49m\u001b[38;5;241;43m.\u001b[39;49m\u001b[43mexecute\u001b[49m\u001b[43m(\u001b[49m\u001b[38;5;124;43mf\u001b[39;49m\u001b[38;5;124;43m\"\u001b[39;49m\u001b[38;5;124;43mSELECT * FROM sub;\u001b[39;49m\u001b[38;5;124;43m\"\u001b[39;49m\u001b[43m)\u001b[49m\n\u001b[1;32m      2\u001b[0m \u001b[38;5;28mprint\u001b[39m(result\u001b[38;5;241m.\u001b[39mfetchdf())\n\u001b[1;32m      4\u001b[0m print_duckdb_schema(con, \u001b[38;5;124m'\u001b[39m\u001b[38;5;124msub\u001b[39m\u001b[38;5;124m'\u001b[39m)\n",
      "\u001b[0;31mCatalogException\u001b[0m: Catalog Error: Table with name sub does not exist!\nDid you mean \"duckdb_logs\"?\n\nLINE 1: SELECT * FROM sub;\n                      ^"
     ]
    }
   ],
   "source": [
    "result = con.execute(f\"SELECT * FROM sub;\")\n",
    "print(result.fetchdf())\n",
    "\n",
    "print_duckdb_schema(con, 'sub')"
   ]
  },
  {
   "cell_type": "code",
   "execution_count": null,
   "metadata": {
    "trusted": true
   },
   "outputs": [],
   "source": [
    "# Remember to close the DuckDB connection when you're finished\n",
    "con.close()"
   ]
  }
 ],
 "metadata": {
  "kaggle": {
   "accelerator": "none",
   "dataSources": [
    {
     "datasetId": 7126957,
     "sourceId": 11382185,
     "sourceType": "datasetVersion"
    }
   ],
   "dockerImageVersionId": 31012,
   "isGpuEnabled": false,
   "isInternetEnabled": true,
   "language": "python",
   "sourceType": "notebook"
  },
  "kernelspec": {
   "display_name": "py312",
   "language": "python",
   "name": "python3"
  },
  "language_info": {
   "codemirror_mode": {
    "name": "ipython",
    "version": 3
   },
   "file_extension": ".py",
   "mimetype": "text/x-python",
   "name": "python",
   "nbconvert_exporter": "python",
   "pygments_lexer": "ipython3",
   "version": "3.12.8"
  }
 },
 "nbformat": 4,
 "nbformat_minor": 4
}
